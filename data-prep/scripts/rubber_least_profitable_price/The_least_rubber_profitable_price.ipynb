{
 "cells": [
  {
   "cell_type": "markdown",
   "metadata": {},
   "source": [
    "# The least profitable rubber price at the county level \n",
    "\n",
    "Notebook illustrates how to compute the least profitable rubber price ($/kg) at the county level in Laos, Myanmar, and Vietnam.\n",
    "\n",
    "The cost of natural rubber contributed from:\n",
    "- the costs of rubber plantation establishment and management;\n",
    "- the costs of natural rubber harvest;\n",
    "- the costs of natural rubber transportation;\n",
    "- the social-economic factors include the social discount rate, least hourly labor cost and the average rubber productivity of rubber plantations in each countries, etc.\n",
    "\n",
    "\n",
    "### The minimum price for sustainable livelihood of rubber smallholders\n",
    "\n",
    "To maintain a sustainable livelihood for smallholding rubber farmers in East Asia, the economic returns of natural rubber products must at least equal the overall costs of establishing, managing and harvesting the rubber plantation.  In this study, we calculated a minimum price for natural rubber products, again at the county level, at which rubber cultivation would be sustainable.  Therefore, if the actual market price of the product is higher than the minimum price, the smallholders will profit. However, if the actual price is lower than the minimum price, rubber cultivation is not a sustainable livelihood for them.  The minimum price is the average minimum price over 25 years of rubber plantation lifespan. The county-level minimum rubber prices were calculated in the eight study countries.\n",
    "To be able to calculate the minimum price of natural rubber products, an economic concept was introduced here: the net present value (NPV). NPV represents a time series of cash flow for investment, for which future revenue is discounted to represent opportunity costs in relation to the present value.  It is an efficient investment while NPV is positive, but it is not while the NPV is negative.  \n",
    "\n",
    "It’s written in a formula as: \n",
    "\n",
    "$NPV = \\sum \\limits _{t=0} ^ {25} (B_{t} - C_{t}) / (1 + r ) ^t $\n",
    "\n",
    "Bt is the gross economic returns for the plantation in our study, it is equal to the rubber yield multiply by the price at year t. \n",
    "Ct represents the overall cost calculated above. \n",
    "r is the discount rate. Simply, discount rate tells the expected return rate for the individual investor. While the investor uses higher discount rate, which means he/she expected higher return rate from the investment. In this study we use social discount rate, which is the expected return rate for the society. The social discount rate is higher in the less developed countries, which means the investors expect to have their investment cash back sooner than the investors who invests in the more developed countries or regions.  A higher social discount rate also indicates the less public sector investment for the country. As less developed countries in tropical Asia and rubber has been listed as a tree cash crop for poverty alleviation, e.g. Laos, Myanmar, and Cambodia, have a higher social discount rate compare to other study countries. \n",
    "The minimum price could be calculated when Bt - Ct = 0, which means that the minimum price is the price that could cover the overall cost for having a rubber plantation. In this study it was calculated as: \n",
    "\n",
    "$P_{rubber} =  \\sum \\limits _{t=0} ^ {25} (C_{t} / (1+r) ^ t / P $\n",
    "\n"
   ]
  },
  {
   "cell_type": "code",
   "execution_count": null,
   "metadata": {},
   "outputs": [],
   "source": [
    "import os\n",
    "from os import path as op\n",
    "import pandas as pd\n",
    "import numpy as np \n",
    "import json "
   ]
  },
  {
   "cell_type": "code",
   "execution_count": null,
   "metadata": {},
   "outputs": [],
   "source": [
    "data_path = \"../../admin_data\"\n",
    "if os.getcwd() == \"/mnt\":\n",
    "    data_path = \"/mnt/admin_data\"\n",
    "print(data_path)"
   ]
  },
  {
   "cell_type": "code",
   "execution_count": null,
   "metadata": {},
   "outputs": [],
   "source": [
    "csvs = sorted([op.join(data_path, csv) for csv in os.listdir(data_path) if csv.endswith('.csv')])\n",
    "csvs"
   ]
  },
  {
   "cell_type": "code",
   "execution_count": null,
   "metadata": {},
   "outputs": [],
   "source": [
    "def rubber_costs(country_prof, cost_csv):\n",
    "    \"\"\"\n",
    "    Compute labor and social discount\n",
    "    \"\"\"\n",
    "    costs_df = pd.read_csv(cost_csv)\n",
    "    # adding \"labor cost\" 6 hours work per day\n",
    "    costs_df['labor_cost'] = costs_df['Total labor days'] * 6 * country_prof['Minimum wage (USD/day)']\n",
    "    # adding \"social discount\" for 25 years of rubber planation life-span\n",
    "    costs_df['social_discount'] = [(1+ country_prof['Social discount rate']) ** t for t in range(1, 26)]\n",
    "    return costs_df"
   ]
  },
  {
   "cell_type": "code",
   "execution_count": null,
   "metadata": {},
   "outputs": [],
   "source": [
    "def least_profitable_price(country_csv, costs_country, country_prof):\n",
    "    \"\"\"\n",
    "    Compute the least profitable rubber price from:\n",
    "    - the costs;\n",
    "    - social discount;\n",
    "    - over a rubber planation's 25 year lifespan;\n",
    "    - at admin level, e.g. county, province and county.\n",
    "    \"\"\"\n",
    "    # the factor to transport rubber product to the market, hard to get to market the cost is higher\n",
    "    market_acc_factor = 2\n",
    "    # rubber factor to reflect more rubber planations within an admin area the rubber cost is lower\n",
    "    rf = 0.05\n",
    "    # orginal cost is saved as ha, convert to km2 is 100\n",
    "    ha2km2 = 100 \n",
    "    # the life span of a rubber planation is 25 \n",
    "    plantation_lsp = 25\n",
    "    # rubber plantation starts to make profit from year of 7th\n",
    "    production = 25 -6 \n",
    "    \n",
    "    country_df = pd.read_csv(country_csv) \n",
    "    country_df[\"rubber_2020\"] = country_df[\"rubber_2020\"].apply(lambda x: json.loads(x.replace(\"'\",'\"')))\n",
    "    country_df[\"market_acc_stat\"] =country_df[\"market_acc_stat\"].apply(lambda x: json.loads(x.replace(\"'\",'\"')))\n",
    "    # calculate rubber plantation mean area for the admin level \n",
    "    mean_pa=np.nanmean([row.get(\"255.0\", np.nan) for row in country_df[\"rubber_2020\"]])\n",
    "\n",
    "    print(mean_pa)\n",
    "    \n",
    "    # looping through each county from the contry csv\n",
    "    # each row represent each county\n",
    "    # compute county level cost, and total rubber productivity\n",
    "    lpps = []\n",
    "    for index, row in country_df.iterrows():\n",
    "        tc = sum(costs_country['Transport expenses'])\n",
    "        tlc = sum(costs_country['Transport of latex'])\n",
    "        \n",
    "        cunty_tc_sum = sum(tc* float(k)* market_acc_factor * (float(v) / ha2km2) for k, v in row['market_acc_stat'].items())\n",
    "        cunty_tlc_sum = sum(tlc* float(k)* market_acc_factor * (float(v) / ha2km2) for k, v in row['market_acc_stat'].items())\n",
    "        #sum of total cost of\"Eletricity, water, tools, and other cost\" over 25 year\n",
    "        county_wet = sum(costs_country['Eletricity, water, tools, and other cost'])\n",
    "        # sum of total cost of \"Chemical using expenses\"\n",
    "        county_chem = sum(costs_country['Chemical using expenses'])\n",
    "        # sum of labor cost \n",
    "        county_labor = sum(costs_country['labor_cost'])\n",
    "        # sum of social discount \n",
    "        county_sd = sum(costs_country['social_discount'])\n",
    "        # total cost over 25 years at county level for all rubber planations\n",
    "        try:\n",
    "            costs = (((cunty_tc_sum + cunty_tlc_sum + county_wet + county_chem + county_labor) *ha2km2/ (row['rubber_2020']['255.0'] / mean_pa) *rf)\n",
    "                     /county_sd) * row['rubber_2020']['255.0'] * plantation_lsp\n",
    "            productivity = laos['Average productivity (kg/ha)'] * production * ha2km2 * row['rubber_2020']['255.0'] \n",
    "            lpp = round(costs/productivity, 3)\n",
    "        except:\n",
    "            lpp = np.nan\n",
    "        print(row['shapename'], lpp)\n",
    "        lpps.append(lpp)\n",
    "    \n",
    "    country_df['rubber_least_profitable_price'] = lpps\n",
    "    country_df.to_csv(country_csv)\n",
    "    return country_df"
   ]
  },
  {
   "cell_type": "markdown",
   "metadata": {},
   "source": [
    "### Country minimum wage, average rubber productivity and social discount"
   ]
  },
  {
   "cell_type": "code",
   "execution_count": null,
   "metadata": {},
   "outputs": [],
   "source": [
    "laos = dict()\n",
    "laos['Minimum wage (USD/day)'] = 5\n",
    "laos['Average productivity (kg/ha)'] = 780\n",
    "laos['Social discount rate'] = 0.14"
   ]
  },
  {
   "cell_type": "code",
   "execution_count": null,
   "metadata": {},
   "outputs": [],
   "source": [
    "vietnam =  dict()\n",
    "vietnam['Minimum wage (USD/day)'] = 5\n",
    "vietnam['Average productivity (kg/ha)'] = 754\n",
    "vietnam['Social discount rate'] = 0.13"
   ]
  },
  {
   "cell_type": "code",
   "execution_count": null,
   "metadata": {},
   "outputs": [],
   "source": [
    "myanmar =  dict()\n",
    "myanmar['Minimum wage (USD/day)'] = 6\n",
    "myanmar['Average productivity (kg/ha)'] = 1717\n",
    "myanmar['Social discount rate'] = 0.11"
   ]
  },
  {
   "cell_type": "markdown",
   "metadata": {},
   "source": [
    "### Cost factors for establishing, management and transportation rubber plantations\n",
    "\n",
    "The cost is in $ per hectare"
   ]
  },
  {
   "cell_type": "code",
   "execution_count": null,
   "metadata": {},
   "outputs": [],
   "source": [
    "cost_csv = op.join(data_path,\"../scripts/rubber_least_profitable_price/average_costs_rubber_planations.csv\")\n",
    "costs_df = pd.read_csv(cost_csv)\n",
    "costs_df.head()"
   ]
  },
  {
   "cell_type": "markdown",
   "metadata": {},
   "source": [
    "### Admin data for the platform"
   ]
  },
  {
   "cell_type": "code",
   "execution_count": null,
   "metadata": {},
   "outputs": [],
   "source": [
    "laos_admin2 = pd.read_csv(op.join(data_path,'la-adm2.csv'))\n",
    "laos_admin2.head()"
   ]
  },
  {
   "cell_type": "code",
   "execution_count": null,
   "metadata": {},
   "outputs": [],
   "source": [
    "csvs"
   ]
  },
  {
   "cell_type": "markdown",
   "metadata": {},
   "source": [
    "## Laos"
   ]
  },
  {
   "cell_type": "code",
   "execution_count": null,
   "metadata": {
    "scrolled": true
   },
   "outputs": [],
   "source": [
    "rcosts_laos = rubber_costs(laos, cost_csv)\n",
    "rcosts_laos.head()"
   ]
  },
  {
   "cell_type": "markdown",
   "metadata": {},
   "source": [
    "#### County level the least profitable rubber price"
   ]
  },
  {
   "cell_type": "code",
   "execution_count": null,
   "metadata": {
    "scrolled": false
   },
   "outputs": [],
   "source": [
    "laos_county_lrpp = least_profitable_price(op.join(data_path,'la-adm2.csv'), rcosts_laos, laos)"
   ]
  },
  {
   "cell_type": "markdown",
   "metadata": {},
   "source": [
    "#### Province level "
   ]
  },
  {
   "cell_type": "code",
   "execution_count": null,
   "metadata": {},
   "outputs": [],
   "source": [
    "laos_pro_lrpp = least_profitable_price(op.join(data_path,'la-adm1.csv'), rcosts_laos, laos)"
   ]
  },
  {
   "cell_type": "markdown",
   "metadata": {},
   "source": [
    "#### Country level"
   ]
  },
  {
   "cell_type": "code",
   "execution_count": null,
   "metadata": {},
   "outputs": [],
   "source": [
    "laos_country_lrpp = least_profitable_price(op.join(data_path,'la-adm0.csv'), rcosts_laos, laos)"
   ]
  },
  {
   "cell_type": "markdown",
   "metadata": {},
   "source": [
    "## Vietnam"
   ]
  },
  {
   "cell_type": "code",
   "execution_count": null,
   "metadata": {},
   "outputs": [],
   "source": [
    "rcosts_vn = rubber_costs(vietnam, cost_csv)\n",
    "rcosts_vn.head()"
   ]
  },
  {
   "cell_type": "code",
   "execution_count": null,
   "metadata": {
    "scrolled": false
   },
   "outputs": [],
   "source": [
    "vn_county_lrpp = least_profitable_price(op.join(data_path,'vn-adm2.csv'), rcosts_vn, vietnam)"
   ]
  },
  {
   "cell_type": "code",
   "execution_count": null,
   "metadata": {},
   "outputs": [],
   "source": [
    "vn_prov_lrpp = least_profitable_price(op.join(data_path,'vn-adm1.csv'), rcosts_vn, vietnam)"
   ]
  },
  {
   "cell_type": "code",
   "execution_count": null,
   "metadata": {},
   "outputs": [],
   "source": [
    "vn_country_lrpp = least_profitable_price(op.join(data_path,'vn-adm0.csv'), rcosts_vn, vietnam)"
   ]
  },
  {
   "cell_type": "markdown",
   "metadata": {},
   "source": [
    "###  Myanmar"
   ]
  },
  {
   "cell_type": "code",
   "execution_count": null,
   "metadata": {},
   "outputs": [],
   "source": [
    "rcosts_mm = rubber_costs(myanmar, cost_csv)\n",
    "rcosts_mm.head()"
   ]
  },
  {
   "cell_type": "code",
   "execution_count": null,
   "metadata": {},
   "outputs": [],
   "source": [
    "mm_county_lrpp = least_profitable_price(op.join(data_path,'mm-adm2.csv'), rcosts_mm, myanmar)"
   ]
  },
  {
   "cell_type": "code",
   "execution_count": null,
   "metadata": {},
   "outputs": [],
   "source": [
    "mm_prov_lrpp = least_profitable_price(op.join(data_path,'mm-adm1.csv'), rcosts_mm, myanmar)"
   ]
  },
  {
   "cell_type": "code",
   "execution_count": null,
   "metadata": {},
   "outputs": [],
   "source": [
    "mm_country_lrpp = least_profitable_price(op.join(data_path,'mm-adm0.csv'), rcosts_mm, myanmar)"
   ]
  },
  {
   "cell_type": "code",
   "execution_count": null,
   "metadata": {},
   "outputs": [],
   "source": [
    "mm_prov_lrpp.head()"
   ]
  },
  {
   "cell_type": "code",
   "execution_count": null,
   "metadata": {},
   "outputs": [],
   "source": []
  }
 ],
 "metadata": {
  "kernelspec": {
   "display_name": "Python 3",
   "language": "python",
   "name": "python3"
  },
  "language_info": {
   "codemirror_mode": {
    "name": "ipython",
    "version": 3
   },
   "file_extension": ".py",
   "mimetype": "text/x-python",
   "name": "python",
   "nbconvert_exporter": "python",
   "pygments_lexer": "ipython3",
   "version": "3.8.5"
  }
 },
 "nbformat": 4,
 "nbformat_minor": 4
}