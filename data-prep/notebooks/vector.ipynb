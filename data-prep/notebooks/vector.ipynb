{
 "metadata": {
  "language_info": {
   "codemirror_mode": {
    "name": "ipython",
    "version": 3
   },
   "file_extension": ".py",
   "mimetype": "text/x-python",
   "name": "python",
   "nbconvert_exporter": "python",
   "pygments_lexer": "ipython3",
   "version": "3.8.6-final"
  },
  "orig_nbformat": 2,
  "kernelspec": {
   "name": "python3",
   "display_name": "Python 3",
   "language": "python"
  }
 },
 "nbformat": 4,
 "nbformat_minor": 2,
 "cells": [
  {
   "source": [
    "## Tiger Conservation Areas\n",
    "\n",
    "Technically the Tx2_TCL are more significant as they have potential area to double tiger populations."
   ],
   "cell_type": "markdown",
   "metadata": {}
  },
  {
   "cell_type": "code",
   "execution_count": 1,
   "metadata": {},
   "outputs": [],
   "source": [
    "import pandas as pd\n",
    "import geopandas as gpd\n",
    "import os"
   ]
  },
  {
   "cell_type": "code",
   "execution_count": 4,
   "metadata": {},
   "outputs": [],
   "source": [
    "src_file = \"../data/biodiversity/tiger_conservation_landscapes/tiger_conservation_landscapes.shp\"\n",
    "tiger_areas = gpd.read_file(src_file)"
   ]
  },
  {
   "cell_type": "code",
   "execution_count": 3,
   "metadata": {},
   "outputs": [
    {
     "output_type": "execute_result",
     "data": {
      "text/plain": [
       "<bound method NDFrame.head of                         TCL_NAME  TCL_ID   Area_ha  Tx2_TCL  \\\n",
       "0       Russian Far East - China       2  26998300      1.0   \n",
       "1                   Heilongjiang       1    131500      1.0   \n",
       "2                   Rajaji Major      46     32200      1.0   \n",
       "3                   Rajaji Minor      45    104400      1.0   \n",
       "4             Corbett - Sonanadi      44    599600      1.0   \n",
       "..                           ...     ...       ...      ...   \n",
       "71     Bukit Tigapuluh Landscape       7    710600      1.0   \n",
       "72                Kerinci Seblat       5   2816200      1.0   \n",
       "73                        Berbak      10    254300      NaN   \n",
       "74  Bukit Balai Rejang - Selatan       4    388400      NaN   \n",
       "75   Bukit Barisan Selatan South       3    210700      NaN   \n",
       "\n",
       "                                             geometry  \n",
       "0   POLYGON ((138.17277 50.89556, 138.15924 50.898...  \n",
       "1   POLYGON ((132.81268 46.42146, 132.80915 46.412...  \n",
       "2   POLYGON ((77.93287 30.48178, 77.93584 30.47342...  \n",
       "3   POLYGON ((77.67992 30.31005, 77.66962 30.30749...  \n",
       "4   POLYGON ((78.73982 29.49688, 78.72958 29.49442...  \n",
       "..                                                ...  \n",
       "71  POLYGON ((102.52090 -0.74643, 102.52075 -0.737...  \n",
       "72  POLYGON ((101.20179 -2.39882, 101.19312 -2.399...  \n",
       "73  POLYGON ((104.17540 -1.74979, 104.16673 -1.750...  \n",
       "74  POLYGON ((103.41057 -4.82051, 103.40194 -4.820...  \n",
       "75  POLYGON ((104.13030 -5.34511, 104.12168 -5.345...  \n",
       "\n",
       "[76 rows x 5 columns]>"
      ]
     },
     "metadata": {},
     "execution_count": 3
    }
   ],
   "source": [
    "tiger_areas.head"
   ]
  },
  {
   "cell_type": "code",
   "execution_count": 6,
   "metadata": {},
   "outputs": [],
   "source": [
    "geojson_file = src_file.replace(os.path.basename(src_file), os.path.basename(src_file).replace('shp','geojson'))\n",
    "tiger_areas.to_file(geojson_file, driver=\"GeoJSON\")"
   ]
  }
 ]
}