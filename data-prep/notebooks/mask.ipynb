{
 "metadata": {
  "language_info": {
   "codemirror_mode": {
    "name": "ipython",
    "version": 3
   },
   "file_extension": ".py",
   "mimetype": "text/x-python",
   "name": "python",
   "nbconvert_exporter": "python",
   "pygments_lexer": "ipython3",
   "version": "3.8.6-final"
  },
  "orig_nbformat": 2,
  "kernelspec": {
   "name": "python3",
   "display_name": "Python 3",
   "language": "python"
  }
 },
 "nbformat": 4,
 "nbformat_minor": 2,
 "cells": [
  {
   "source": [
    "# Subset data by region\n",
    "\n",
    "1. Select ADM0 of countries of interest\n",
    "2. Take the Bounding Box\n",
    "3. Increase by 1%\n",
    "4. Save in geojson"
   ],
   "cell_type": "markdown",
   "metadata": {}
  },
  {
   "cell_type": "code",
   "execution_count": 12,
   "metadata": {},
   "outputs": [],
   "source": [
    "import geopandas as gpd\n",
    "import shapely as shp\n",
    "import os"
   ]
  },
  {
   "cell_type": "code",
   "execution_count": 6,
   "metadata": {},
   "outputs": [
    {
     "output_type": "execute_result",
     "data": {
      "text/plain": [
       "        featurecla  scalerank  LABELRANK SOVEREIGNT SOV_A3  ADM0_DIF  LEVEL  \\\n",
       "0  Admin-0 country          5          2  Indonesia    IDN         0      2   \n",
       "1  Admin-0 country          5          3   Malaysia    MYS         0      2   \n",
       "2  Admin-0 country          6          2      Chile    CHL         0      2   \n",
       "3  Admin-0 country          0          3    Bolivia    BOL         0      2   \n",
       "4  Admin-0 country          0          2       Peru    PER         0      2   \n",
       "\n",
       "                TYPE      ADMIN ADM0_A3  ...  NAME_KO    NAME_NL    NAME_PL  \\\n",
       "0  Sovereign country  Indonesia     IDN  ...    인도네시아  Indonesië  Indonezja   \n",
       "1  Sovereign country   Malaysia     MYS  ...    말레이시아   Maleisië    Malezja   \n",
       "2  Sovereign country      Chile     CHL  ...       칠레      Chili      Chile   \n",
       "3  Sovereign country    Bolivia     BOL  ...     볼리비아    Bolivia    Boliwia   \n",
       "4  Sovereign country       Peru     PER  ...       페루       Peru       Peru   \n",
       "\n",
       "     NAME_PT    NAME_RU     NAME_SV    NAME_TR    NAME_VI NAME_ZH  \\\n",
       "0  Indonésia  Индонезия  Indonesien  Endonezya  Indonesia   印度尼西亚   \n",
       "1    Malásia   Малайзия    Malaysia    Malezya   Malaysia    马来西亚   \n",
       "2      Chile       Чили       Chile       Şili      Chile      智利   \n",
       "3    Bolívia    Боливия     Bolivia    Bolivya    Bolivia    玻利維亞   \n",
       "4       Peru       Перу        Peru       Peru       Peru      秘鲁   \n",
       "\n",
       "                                            geometry  \n",
       "0  MULTIPOLYGON (((117.70361 4.16341, 117.70361 4...  \n",
       "1  MULTIPOLYGON (((117.70361 4.16341, 117.69711 4...  \n",
       "2  MULTIPOLYGON (((-69.51009 -17.50659, -69.50611...  \n",
       "3  POLYGON ((-69.51009 -17.50659, -69.51009 -17.5...  \n",
       "4  MULTIPOLYGON (((-69.51009 -17.50659, -69.63832...  \n",
       "\n",
       "[5 rows x 95 columns]"
      ],
      "text/html": "<div>\n<style scoped>\n    .dataframe tbody tr th:only-of-type {\n        vertical-align: middle;\n    }\n\n    .dataframe tbody tr th {\n        vertical-align: top;\n    }\n\n    .dataframe thead th {\n        text-align: right;\n    }\n</style>\n<table border=\"1\" class=\"dataframe\">\n  <thead>\n    <tr style=\"text-align: right;\">\n      <th></th>\n      <th>featurecla</th>\n      <th>scalerank</th>\n      <th>LABELRANK</th>\n      <th>SOVEREIGNT</th>\n      <th>SOV_A3</th>\n      <th>ADM0_DIF</th>\n      <th>LEVEL</th>\n      <th>TYPE</th>\n      <th>ADMIN</th>\n      <th>ADM0_A3</th>\n      <th>...</th>\n      <th>NAME_KO</th>\n      <th>NAME_NL</th>\n      <th>NAME_PL</th>\n      <th>NAME_PT</th>\n      <th>NAME_RU</th>\n      <th>NAME_SV</th>\n      <th>NAME_TR</th>\n      <th>NAME_VI</th>\n      <th>NAME_ZH</th>\n      <th>geometry</th>\n    </tr>\n  </thead>\n  <tbody>\n    <tr>\n      <th>0</th>\n      <td>Admin-0 country</td>\n      <td>5</td>\n      <td>2</td>\n      <td>Indonesia</td>\n      <td>IDN</td>\n      <td>0</td>\n      <td>2</td>\n      <td>Sovereign country</td>\n      <td>Indonesia</td>\n      <td>IDN</td>\n      <td>...</td>\n      <td>인도네시아</td>\n      <td>Indonesië</td>\n      <td>Indonezja</td>\n      <td>Indonésia</td>\n      <td>Индонезия</td>\n      <td>Indonesien</td>\n      <td>Endonezya</td>\n      <td>Indonesia</td>\n      <td>印度尼西亚</td>\n      <td>MULTIPOLYGON (((117.70361 4.16341, 117.70361 4...</td>\n    </tr>\n    <tr>\n      <th>1</th>\n      <td>Admin-0 country</td>\n      <td>5</td>\n      <td>3</td>\n      <td>Malaysia</td>\n      <td>MYS</td>\n      <td>0</td>\n      <td>2</td>\n      <td>Sovereign country</td>\n      <td>Malaysia</td>\n      <td>MYS</td>\n      <td>...</td>\n      <td>말레이시아</td>\n      <td>Maleisië</td>\n      <td>Malezja</td>\n      <td>Malásia</td>\n      <td>Малайзия</td>\n      <td>Malaysia</td>\n      <td>Malezya</td>\n      <td>Malaysia</td>\n      <td>马来西亚</td>\n      <td>MULTIPOLYGON (((117.70361 4.16341, 117.69711 4...</td>\n    </tr>\n    <tr>\n      <th>2</th>\n      <td>Admin-0 country</td>\n      <td>6</td>\n      <td>2</td>\n      <td>Chile</td>\n      <td>CHL</td>\n      <td>0</td>\n      <td>2</td>\n      <td>Sovereign country</td>\n      <td>Chile</td>\n      <td>CHL</td>\n      <td>...</td>\n      <td>칠레</td>\n      <td>Chili</td>\n      <td>Chile</td>\n      <td>Chile</td>\n      <td>Чили</td>\n      <td>Chile</td>\n      <td>Şili</td>\n      <td>Chile</td>\n      <td>智利</td>\n      <td>MULTIPOLYGON (((-69.51009 -17.50659, -69.50611...</td>\n    </tr>\n    <tr>\n      <th>3</th>\n      <td>Admin-0 country</td>\n      <td>0</td>\n      <td>3</td>\n      <td>Bolivia</td>\n      <td>BOL</td>\n      <td>0</td>\n      <td>2</td>\n      <td>Sovereign country</td>\n      <td>Bolivia</td>\n      <td>BOL</td>\n      <td>...</td>\n      <td>볼리비아</td>\n      <td>Bolivia</td>\n      <td>Boliwia</td>\n      <td>Bolívia</td>\n      <td>Боливия</td>\n      <td>Bolivia</td>\n      <td>Bolivya</td>\n      <td>Bolivia</td>\n      <td>玻利維亞</td>\n      <td>POLYGON ((-69.51009 -17.50659, -69.51009 -17.5...</td>\n    </tr>\n    <tr>\n      <th>4</th>\n      <td>Admin-0 country</td>\n      <td>0</td>\n      <td>2</td>\n      <td>Peru</td>\n      <td>PER</td>\n      <td>0</td>\n      <td>2</td>\n      <td>Sovereign country</td>\n      <td>Peru</td>\n      <td>PER</td>\n      <td>...</td>\n      <td>페루</td>\n      <td>Peru</td>\n      <td>Peru</td>\n      <td>Peru</td>\n      <td>Перу</td>\n      <td>Peru</td>\n      <td>Peru</td>\n      <td>Peru</td>\n      <td>秘鲁</td>\n      <td>MULTIPOLYGON (((-69.51009 -17.50659, -69.63832...</td>\n    </tr>\n  </tbody>\n</table>\n<p>5 rows × 95 columns</p>\n</div>"
     },
     "metadata": {},
     "execution_count": 6
    }
   ],
   "source": [
    "ne_10m_adm0_shp = '../data/admin/ne_10m_admin_0_countries/ne_10m_admin_0_countries.shp'\n",
    "all_countries = gpd.read_file(ne_10m_adm0_shp)\n",
    "#all_countries.head()"
   ]
  },
  {
   "cell_type": "code",
   "execution_count": 11,
   "metadata": {},
   "outputs": [
    {
     "output_type": "execute_result",
     "data": {
      "text/plain": [
       "          featurecla  scalerank  LABELRANK SOVEREIGNT SOV_A3  ADM0_DIF  LEVEL  \\\n",
       "56   Admin-0 country          0          2    Vietnam    VNM         0      2   \n",
       "68   Admin-0 country          0          4       Laos    LAO         0      2   \n",
       "126  Admin-0 country          0          3    Myanmar    MMR         0      2   \n",
       "\n",
       "                  TYPE    ADMIN ADM0_A3  ...  NAME_KO  NAME_NL  NAME_PL  \\\n",
       "56   Sovereign country  Vietnam     VNM  ...      베트남  Vietnam  Wietnam   \n",
       "68   Sovereign country     Laos     LAO  ...      라오스     Laos     Laos   \n",
       "126  Sovereign country  Myanmar     MMR  ...      미얀마  Myanmar   Mjanma   \n",
       "\n",
       "      NAME_PT  NAME_RU  NAME_SV  NAME_TR   NAME_VI NAME_ZH  \\\n",
       "56   Vietname  Вьетнам  Vietnam  Vietnam  Việt Nam      越南   \n",
       "68       Laos     Лаос     Laos     Laos       Lào      老挝   \n",
       "126   Mianmar   Мьянма    Burma  Myanmar    Myanma      缅甸   \n",
       "\n",
       "                                              geometry  \n",
       "56   MULTIPOLYGON (((107.52039 14.70458, 107.52225 ...  \n",
       "68   POLYGON ((102.11866 22.39755, 102.12542 22.383...  \n",
       "126  MULTIPOLYGON (((92.57588 21.97757, 92.58384 21...  \n",
       "\n",
       "[3 rows x 95 columns]"
      ],
      "text/html": "<div>\n<style scoped>\n    .dataframe tbody tr th:only-of-type {\n        vertical-align: middle;\n    }\n\n    .dataframe tbody tr th {\n        vertical-align: top;\n    }\n\n    .dataframe thead th {\n        text-align: right;\n    }\n</style>\n<table border=\"1\" class=\"dataframe\">\n  <thead>\n    <tr style=\"text-align: right;\">\n      <th></th>\n      <th>featurecla</th>\n      <th>scalerank</th>\n      <th>LABELRANK</th>\n      <th>SOVEREIGNT</th>\n      <th>SOV_A3</th>\n      <th>ADM0_DIF</th>\n      <th>LEVEL</th>\n      <th>TYPE</th>\n      <th>ADMIN</th>\n      <th>ADM0_A3</th>\n      <th>...</th>\n      <th>NAME_KO</th>\n      <th>NAME_NL</th>\n      <th>NAME_PL</th>\n      <th>NAME_PT</th>\n      <th>NAME_RU</th>\n      <th>NAME_SV</th>\n      <th>NAME_TR</th>\n      <th>NAME_VI</th>\n      <th>NAME_ZH</th>\n      <th>geometry</th>\n    </tr>\n  </thead>\n  <tbody>\n    <tr>\n      <th>56</th>\n      <td>Admin-0 country</td>\n      <td>0</td>\n      <td>2</td>\n      <td>Vietnam</td>\n      <td>VNM</td>\n      <td>0</td>\n      <td>2</td>\n      <td>Sovereign country</td>\n      <td>Vietnam</td>\n      <td>VNM</td>\n      <td>...</td>\n      <td>베트남</td>\n      <td>Vietnam</td>\n      <td>Wietnam</td>\n      <td>Vietname</td>\n      <td>Вьетнам</td>\n      <td>Vietnam</td>\n      <td>Vietnam</td>\n      <td>Việt Nam</td>\n      <td>越南</td>\n      <td>MULTIPOLYGON (((107.52039 14.70458, 107.52225 ...</td>\n    </tr>\n    <tr>\n      <th>68</th>\n      <td>Admin-0 country</td>\n      <td>0</td>\n      <td>4</td>\n      <td>Laos</td>\n      <td>LAO</td>\n      <td>0</td>\n      <td>2</td>\n      <td>Sovereign country</td>\n      <td>Laos</td>\n      <td>LAO</td>\n      <td>...</td>\n      <td>라오스</td>\n      <td>Laos</td>\n      <td>Laos</td>\n      <td>Laos</td>\n      <td>Лаос</td>\n      <td>Laos</td>\n      <td>Laos</td>\n      <td>Lào</td>\n      <td>老挝</td>\n      <td>POLYGON ((102.11866 22.39755, 102.12542 22.383...</td>\n    </tr>\n    <tr>\n      <th>126</th>\n      <td>Admin-0 country</td>\n      <td>0</td>\n      <td>3</td>\n      <td>Myanmar</td>\n      <td>MMR</td>\n      <td>0</td>\n      <td>2</td>\n      <td>Sovereign country</td>\n      <td>Myanmar</td>\n      <td>MMR</td>\n      <td>...</td>\n      <td>미얀마</td>\n      <td>Myanmar</td>\n      <td>Mjanma</td>\n      <td>Mianmar</td>\n      <td>Мьянма</td>\n      <td>Burma</td>\n      <td>Myanmar</td>\n      <td>Myanma</td>\n      <td>缅甸</td>\n      <td>MULTIPOLYGON (((92.57588 21.97757, 92.58384 21...</td>\n    </tr>\n  </tbody>\n</table>\n<p>3 rows × 95 columns</p>\n</div>"
     },
     "metadata": {},
     "execution_count": 11
    }
   ],
   "source": [
    "# Grab the countries of interest\n",
    "isos = {104:'MMR', 704:'VNM', 418:'LAO'}\n",
    "subset = all_countries[all_countries['ADM0_A3'].isin(isos.values())]\n"
   ]
  },
  {
   "cell_type": "code",
   "execution_count": 26,
   "metadata": {},
   "outputs": [],
   "source": [
    "# Generate a BBOX for the geodataframe, buffer slightly?\n",
    "bbox = subset.total_bounds\n",
    "bbox_polygon = gpd.GeoSeries(shp.geometry.box(bbox[0], bbox[1], bbox[2], bbox[3]))\n",
    "bbox_gdf = gpd.GeoDataFrame({'name': ['aoi']}, geometry=bbox_polygon, crs='EPSG:4326')\n",
    "bbox_gdf.to_file(os.path.join(os.path.dirname(ne_10m_adm0_shp),'aoi.json') , driver=\"GeoJSON\")"
   ]
  }
 ]
}