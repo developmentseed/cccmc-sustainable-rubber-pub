{
 "metadata": {
  "language_info": {
   "codemirror_mode": {
    "name": "ipython",
    "version": 3
   },
   "file_extension": ".py",
   "mimetype": "text/x-python",
   "name": "python",
   "nbconvert_exporter": "python",
   "pygments_lexer": "ipython3",
   "version": "3.8.6-final"
  },
  "orig_nbformat": 2,
  "kernelspec": {
   "name": "python3",
   "display_name": "Python 3.8.6 64-bit",
   "metadata": {
    "interpreter": {
     "hash": "37ebe45e9aba3e8ffd5a3cf108af990907d827e426774d42aedaa1753030a573"
    }
   }
  }
 },
 "nbformat": 4,
 "nbformat_minor": 2,
 "cells": [
  {
   "source": [
    "# Armed Conflict Data\n",
    "\n",
    "1. Download data in csv format\n",
    "2. Read csv as geodataframe\n",
    "3. Select countries of interest (MMR:104, VNM:704, LAO:418) OR Clip by country borders or region bbox to reduce data\n",
    "5. Export in spatial formats\n",
    "\n",
    "Note: data folder must be in the project root (but is not in the source code)"
   ],
   "cell_type": "markdown",
   "metadata": {}
  },
  {
   "cell_type": "code",
   "execution_count": 2,
   "metadata": {},
   "outputs": [],
   "source": [
    "import pandas as pd\n",
    "import geopandas as gpd\n",
    "import os\n"
   ]
  },
  {
   "cell_type": "code",
   "execution_count": 9,
   "metadata": {},
   "outputs": [],
   "source": [
    "# import data\n",
    "csv_file = '../data/acled/Southeast-Asia_2010-2020_Nov28.csv'\n",
    "acled = pd.read_csv(csv_file)"
   ]
  },
  {
   "cell_type": "code",
   "execution_count": 33,
   "metadata": {},
   "outputs": [],
   "source": [
    "# convert to spatial data, point by x,y\n",
    "gdf_acled = gpd.GeoDataFrame(acled, geometry=gpd.points_from_xy(acled.LONGITUDE, acled.LATITUDE))\n",
    "\n",
    "# save a copy as geojson\n",
    "geojson_file = csv_file.replace(os.path.basename(csv_file), os.path.basename(csv_file).replace('csv','geojson'))\n",
    "gdf_acled.to_file(geojson_file, driver=\"GeoJSON\")\n"
   ]
  },
  {
   "cell_type": "code",
   "execution_count": 32,
   "metadata": {},
   "outputs": [],
   "source": [
    "isos = {104:'MMR', 704:'VNM', 418:'LAO'}\n",
    "path_to_files = os.path.dirname(csv_file)\n",
    "#print(path_to_files)\n",
    "\n",
    "for iso in isos.keys():\n",
    "    # filter and save by country\n",
    "    gdf_filter = gdf_acled[gdf_acled['ISO'] == iso]\n",
    "    filename = \".\".join([isos.get(iso),'geojson'])\n",
    "    #print(filename)\n",
    "    gdf_filter.to_file(os.path.join(path_to_files, filename), driver='GeoJSON')  "
   ]
  }
 ]
}