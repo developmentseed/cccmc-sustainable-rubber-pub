{
 "metadata": {
  "language_info": {
   "codemirror_mode": {
    "name": "ipython",
    "version": 3
   },
   "file_extension": ".py",
   "mimetype": "text/x-python",
   "name": "python",
   "nbconvert_exporter": "python",
   "pygments_lexer": "ipython3",
   "version": "3.8.6-final"
  },
  "orig_nbformat": 2,
  "kernelspec": {
   "name": "python3",
   "display_name": "Python 3",
   "language": "python"
  }
 },
 "nbformat": 4,
 "nbformat_minor": 2,
 "cells": [
  {
   "source": [
    "# Population layers\n",
    "\n",
    "GPW data seems the best for showing spatial distribution across administrative units. Need to convert to COGs (below).\n",
    "\n",
    "Facebook data is better for actual population location, especially outside dense cities but only has data for Laos and Vietnam."
   ],
   "cell_type": "markdown",
   "metadata": {}
  },
  {
   "cell_type": "code",
   "execution_count": 1,
   "metadata": {},
   "outputs": [],
   "source": [
    "import os \n",
    "import subprocess"
   ]
  },
  {
   "cell_type": "code",
   "execution_count": 3,
   "metadata": {},
   "outputs": [],
   "source": [
    "# convert gpw layers to cogs\n",
    "def convert2cog(input: str, ext: str, exargs: str=\"\") -> str:\n",
    "    input_path = os.path.join('..', input)\n",
    "    output = input_path.replace(ext,'-cog.tif')\n",
    "    \n",
    "    #rio cogeo create\n",
    "    cmd = f'rio cogeo create {exargs} {input_path} {output}'\n",
    "    results = subprocess.call(cmd, shell=True)\n",
    "    print(results)\n",
    "\n",
    "    return results\n",
    "\n",
    "\n",
    "\n",
    "    \n",
    "\n",
    "    "
   ]
  },
  {
   "cell_type": "code",
   "execution_count": 9,
   "metadata": {},
   "outputs": [
    {
     "output_type": "execute_result",
     "data": {
      "text/plain": [
       "'../data/population/gpw-v4-population-count-rev11_2020_30_sec_tif/gpw_v4_population_count_rev11_2020_30_sec-cog.tif'"
      ]
     },
     "metadata": {},
     "execution_count": 9
    }
   ],
   "source": [
    "# population data\n",
    "pop_inputs = ['data/population/gpw-v4-population-count-adjusted-to-2015-unwpp-country-totals-rev11_2015_30_sec_tif/gpw_v4_population_count_adjusted_to_2015_unwpp_country_totals_rev11_2015_30_sec.tif',\n",
    "'data/population/gpw-v4-population-count-rev11_2020_30_sec_tif/gpw_v4_population_count_rev11_2020_30_sec.tif']\n",
    "\n",
    "all_results = [convert2cog(input, '.tif') for input in pop_inputs]"
   ]
  },
  {
   "cell_type": "code",
   "execution_count": 5,
   "metadata": {},
   "outputs": [
    {
     "output_type": "stream",
     "name": "stdout",
     "text": [
      "0\n",
      "0\n"
     ]
    }
   ],
   "source": [
    "# market access data\n",
    "market_inputs = ['data/access/2015_accessibility_to_cities_v1.0/2015_accessibility_to_cities_v1.0.tif', 'data/access/2020_motorized_friction_surface.geotiff']\n",
    "\n",
    "market_1 = convert2cog(market_inputs[0], '.tif')\n",
    "market_2 = convert2cog(market_inputs[1], '.geotiff')"
   ]
  },
  {
   "cell_type": "code",
   "execution_count": 4,
   "metadata": {},
   "outputs": [
    {
     "output_type": "stream",
     "name": "stdout",
     "text": [
      "0\n"
     ]
    }
   ],
   "source": [
    "# landslide data\n",
    "# gdalinfo reports the nodata value is 15 but it's actually 0\n",
    "landslide_inputs = ['data/hazards/global-landslide-susceptibility-map-1-30-20/suscV1_1.tif']\n",
    "\n",
    "landslide_results = convert2cog(landslide_inputs[0], '.tif','--nodata=0')"
   ]
  }
 ]
}